{
 "cells": [
  {
   "cell_type": "code",
   "execution_count": 2,
   "id": "39c424d4-81d2-4da6-8a23-04715b9dfe73",
   "metadata": {},
   "outputs": [],
   "source": [
    "speed = [99,86,87,88,111,86,103,87,94,78,77,85,86]"
   ]
  },
  {
   "cell_type": "code",
   "execution_count": 3,
   "id": "d5240e04-e8bf-4fc3-9c41-97ec78acafa6",
   "metadata": {},
   "outputs": [
    {
     "name": "stdout",
     "output_type": "stream",
     "text": [
      "Mean of the speed is 89.76923076923077\n"
     ]
    }
   ],
   "source": [
    "import numpy as np\n",
    "\n",
    "x = np.mean(speed)\n",
    "\n",
    "print(\"Mean of the speed is\", x)\n",
    "\n"
   ]
  },
  {
   "cell_type": "code",
   "execution_count": 4,
   "id": "09e6a59a-4911-4b0d-a8d2-e9fd83f0077b",
   "metadata": {},
   "outputs": [
    {
     "name": "stdout",
     "output_type": "stream",
     "text": [
      "Median of the speed is 87.0\n"
     ]
    }
   ],
   "source": [
    "#Median\n",
    "\n",
    "y = np.median(speed)\n",
    "\n",
    "print(\"Median of the speed is\", y)"
   ]
  },
  {
   "cell_type": "code",
   "execution_count": 13,
   "id": "3b4a4739-d20a-450c-b1ce-2ad90933b174",
   "metadata": {},
   "outputs": [
    {
     "name": "stdout",
     "output_type": "stream",
     "text": [
      "mode of the numbers is ModeResult(mode=array([86]), count=array([3]))\n"
     ]
    }
   ],
   "source": [
    "# mode\n",
    "# the values that are appears more number of times\n",
    "from scipy import stats\n",
    "\n",
    "\n",
    "z = stats.mode(speed)\n",
    "\n",
    "print(\"mode of the numbers is\", z)"
   ]
  },
  {
   "cell_type": "markdown",
   "id": "2b0953e1-3d09-4198-abb9-4b5f310670fe",
   "metadata": {},
   "source": [
    "Standard deviation\n",
    "\n",
    "sd is a number that describes how spread out the values are.\n",
    "\n",
    "A low standard deviation means that th most of the numbers are close to the mean (avg) value\n",
    "\n",
    "A high standard deviation means that the valuess are spread out over a wide range"
   ]
  },
  {
   "cell_type": "code",
   "execution_count": 16,
   "id": "eb93ef79-f730-4679-940b-f747a4f54df1",
   "metadata": {},
   "outputs": [
    {
     "name": "stdout",
     "output_type": "stream",
     "text": [
      "standard deviation of speed of cars is 9.258292301032677\n"
     ]
    }
   ],
   "source": [
    "speed\n",
    "\n",
    "sd = np.std(speed)\n",
    "print(\"standard deviation of speed of cars is\", sd)"
   ]
  },
  {
   "cell_type": "markdown",
   "id": "14d1f53f-e80e-4d73-85a3-b340f2bc0f90",
   "metadata": {},
   "source": [
    "Variance\n",
    "\n",
    "Variance is another number that indicates how spread out the values are.\n",
    "\n",
    "In fact, if you take the square root of the variance, you gte the standard deviation!\n",
    "Or the other way around\n",
    "if. you multiply the standard deviation by itself, you get the variance!\n",
    "\n",
    "to calculate the variance you have to do as follows"
   ]
  },
  {
   "cell_type": "code",
   "execution_count": 17,
   "id": "8cdd60df-2157-438a-994e-09e1bb3ba0c4",
   "metadata": {},
   "outputs": [
    {
     "name": "stdout",
     "output_type": "stream",
     "text": [
      "variance of speed of cars is 85.71597633136093\n"
     ]
    }
   ],
   "source": [
    "x = np.var(speed)\n",
    "\n",
    "print(\"variance of speed of cars is\", x)"
   ]
  },
  {
   "cell_type": "markdown",
   "id": "6c05c2ea-793d-4689-ad3f-c7d991363918",
   "metadata": {},
   "source": [
    "Percentile\n",
    "\n",
    "Percentiles are used in statistics to give you the number that scribes\n",
    "the values that a given percent of the values are lower than"
   ]
  },
  {
   "cell_type": "code",
   "execution_count": 20,
   "id": "361d8891-bbe8-4873-8c5e-c84bda358eb1",
   "metadata": {},
   "outputs": [],
   "source": [
    "ages = [5,31,43,48,50,41,7,11,15,39,80,82,32,2,8,6,25,36,27,61,31]"
   ]
  },
  {
   "cell_type": "code",
   "execution_count": 23,
   "id": "c50b841e-93bf-4c83-8798-842783e794cf",
   "metadata": {},
   "outputs": [
    {
     "name": "stdout",
     "output_type": "stream",
     "text": [
      "75th percentaile of ages is 43.0\n"
     ]
    }
   ],
   "source": [
    "ages\n",
    "x = np.percentile(ages,75)\n",
    "print(\"75th percentaile of ages is\", x)"
   ]
  },
  {
   "cell_type": "code",
   "execution_count": 24,
   "id": "4614238e-a138-4b06-be48-a56d97109315",
   "metadata": {},
   "outputs": [
    {
     "name": "stdout",
     "output_type": "stream",
     "text": [
      "[0.25693562 1.88360614 3.74815805 0.22441519 2.89721867 2.42257601\n",
      " 1.4027281  3.82776686 4.25485369 1.06743161 0.14639262 2.36409342\n",
      " 2.83416846 0.02718292 3.38988053 0.68776825 2.4835643  1.41616999\n",
      " 0.02148168 0.35378003 0.69718049 4.15257817 4.00580517 2.52152922\n",
      " 2.93299295 1.41059357 3.76081024 2.37743421 2.7946524  1.62413627\n",
      " 4.05801073 0.08926419 2.25662045 2.96487237 0.92865141 0.48107178\n",
      " 4.59349052 1.84182245 3.84028347 0.42913201 1.5800562  2.71431086\n",
      " 1.22547108 2.04302336 0.80201508 3.92707369 0.28856735 2.87023194\n",
      " 1.59515045 1.77958231 0.57015682 4.33221093 4.69750411 3.46863655\n",
      " 4.43493923 3.36606561 0.11580425 1.67814825 3.55991927 1.30133378\n",
      " 3.70322249 4.47495169 0.41239236 1.49337976 4.26594765 3.38202161\n",
      " 1.3075207  3.66487056 3.00481039 3.40482158 2.00226627 3.02806605\n",
      " 2.62558626 3.55292547 1.82225588 2.42019146 0.3853975  1.07263847\n",
      " 2.64872425 3.92925846 4.9787802  2.36777345 2.82083545 1.60746263\n",
      " 0.46815085 2.40806441 1.07730951 4.73650698 0.54841932 4.83190234\n",
      " 0.42987996 3.93867397 2.38551031 0.82865684 1.01755132 3.54138935\n",
      " 3.50990853 3.68598844 2.59704735 4.60626891 3.91532135 0.95524025\n",
      " 3.55621246 4.87604455 4.35070753 4.51226109 1.99629578 4.43290052\n",
      " 1.15738153 2.58744178 4.08985829 3.88737161 1.35128586 2.3825869\n",
      " 3.65439788 3.0722588  0.88991502 0.3409112  2.71598243 0.01457549\n",
      " 2.85932507 2.33121488 4.63243229 0.63812945 4.25561007 1.88884002\n",
      " 2.19456333 2.35292761 3.03252524 2.77813655 2.48736144 2.84135383\n",
      " 3.77376049 1.61142825 3.59470526 3.03245026 0.27406066 0.03549873\n",
      " 4.92893987 0.3529784  0.06393865 1.65432306 4.93506046 0.21509757\n",
      " 0.83665759 4.50984465 1.38566549 1.35407243 1.35916265 3.26671944\n",
      " 4.02119226 3.48240485 2.18327052 1.54097476 0.60139707 0.45838235\n",
      " 4.98260637 4.71192262 1.07581568 1.26916685 0.13099547 0.94480837\n",
      " 3.8186142  2.30353368 0.9603667  1.22707574 3.2884331  2.1125411\n",
      " 3.40173672 3.16598903 2.07885429 3.35522175 3.14803512 0.9977724\n",
      " 0.41425514 2.14441058 2.26315456 4.56935716 1.05898582 4.71078522\n",
      " 2.61414637 2.06725573 0.67629288 4.89308458 3.94747402 4.58943237\n",
      " 2.49123307 0.57808394 4.6685098  2.50821825 4.58770777 2.1361246\n",
      " 0.24280593 4.30831691 2.81473736 2.92336348 0.26217991 1.97964061\n",
      " 1.73689896 0.99571151 4.51285376 1.12824434 1.45268417 4.00483688\n",
      " 1.16084921 3.73783488 1.1997375  1.44413612 1.51934621 1.3630307\n",
      " 4.33244623 0.72965204 1.25309971 2.48291799 3.77840877 1.16822768\n",
      " 3.76226992 3.19884543 4.94994101 0.09357882 2.41213801 4.94187177\n",
      " 2.76052769 2.05021711 2.95199524 1.213877   4.73592522 1.49020893\n",
      " 0.27535151 4.52418955 4.33308499 4.87217207 0.2034202  1.12901273\n",
      " 2.33577346 3.43608049 3.07705389 0.08720636 2.76259113 4.31134249\n",
      " 3.65980865 3.7322099  2.29509227 2.71721541 3.93435657 3.78013367\n",
      " 1.07277338 1.30062459 3.67410008 1.91655967]\n"
     ]
    }
   ],
   "source": [
    "x = np.random.uniform(0.0,5.0,250)\n",
    "print(x)"
   ]
  },
  {
   "cell_type": "code",
   "execution_count": 26,
   "id": "10db940e-ac32-4588-b1b5-afdeb4b252dd",
   "metadata": {},
   "outputs": [
    {
     "data": {
      "image/png": "[encoded data removed]",
      "text/plain": [
       "<Figure size 432x288 with 1 Axes>"
      ]
     },
     "metadata": {
      "needs_background": "light"
     },
     "output_type": "display_data"
    }
   ],
   "source": [
    "import matplotlib.pyplot as plt\n",
    "\n",
    "plt.hist(x,5)\n",
    "plt.show()"
   ]
  },
  {
   "cell_type": "code",
   "execution_count": 34,
   "id": "3f678310-7289-4f90-bb0e-2007ad6f59ef",
   "metadata": {},
   "outputs": [
    {
     "data": {
      "image/png": "[encoded data removed]",
      "text/plain": [
       "<Figure size 432x288 with 1 Axes>"
      ]
     },
     "metadata": {
      "needs_background": "light"
     },
     "output_type": "display_data"
    }
   ],
   "source": [
    "y = np.random.uniform(0.0,5.0,1000000)\n",
    "plt.hist(y,50)\n",
    "plt.show()"
   ]
  },
  {
   "cell_type": "markdown",
   "id": "8811b5d4-b8de-466b-af88-d8af9813c607",
   "metadata": {},
   "source": [
    "Scatterplot"
   ]
  },
  {
   "cell_type": "code",
   "execution_count": 35,
   "id": "4e49bc4d-f143-46ec-a6c8-4eff145bb3b1",
   "metadata": {},
   "outputs": [],
   "source": [
    "x = [5,7,8,7,2,17,2,9,4,11,12,9,6]\n",
    "\n",
    "y = [99,86,87,88,111,86,103,87,94,78,77,85,86]"
   ]
  },
  {
   "cell_type": "code",
   "execution_count": 36,
   "id": "95136001-5b9d-4747-9e83-7720ecc3d6bd",
   "metadata": {},
   "outputs": [
    {
     "data": {
      "image/png": "[encoded data removed]",
      "text/plain": [
       "<Figure size 432x288 with 1 Axes>"
      ]
     },
     "metadata": {
      "needs_background": "light"
     },
     "output_type": "display_data"
    }
   ],
   "source": [
    "import matplotlib.pyplot as plt\n",
    "\n",
    "plt.scatter(x,y)\n",
    "plt.show()"
   ]
  },
  {
   "cell_type": "code",
   "execution_count": 38,
   "id": "6c43d696-3f17-43f1-8b6a-432a4e665137",
   "metadata": {},
   "outputs": [
    {
     "data": {
      "image/png": "[encoded data removed]",
      "text/plain": [
       "<Figure size 432x288 with 1 Axes>"
      ]
     },
     "metadata": {
      "needs_background": "light"
     },
     "output_type": "display_data"
    }
   ],
   "source": [
    "x = np.random.normal(5.0, 1.0, 1000)\n",
    "y = np.random.normal(10.0, 2.0, 1000)\n",
    "\n",
    "plt.scatter(x, y)\n",
    "plt.show()"
   ]
  },
  {
   "cell_type": "code",
   "execution_count": null,
   "id": "182d4fda-1df8-4bbd-b5e5-ee96af7e85ff",
   "metadata": {},
   "outputs": [],
   "source": []
  }
 ],
 "metadata": {
  "kernelspec": {
   "display_name": "Python 3 (ipykernel)",
   "language": "python",
   "name": "python3"
  },
  "language_info": {
   "codemirror_mode": {
    "name": "ipython",
    "version": 3
   },
   "file_extension": ".py",
   "mimetype": "text/x-python",
   "name": "python",
   "nbconvert_exporter": "python",
   "pygments_lexer": "ipython3",
   "version": "3.9.12"
  }
 },
 "nbformat": 4,
 "nbformat_minor": 5
}
